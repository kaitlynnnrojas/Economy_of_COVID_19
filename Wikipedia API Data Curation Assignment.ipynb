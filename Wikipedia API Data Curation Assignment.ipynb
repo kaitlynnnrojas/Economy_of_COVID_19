{
 "cells": [
  {
   "cell_type": "code",
   "execution_count": 2,
   "id": "c5aa05a4",
   "metadata": {},
   "outputs": [
    {
     "name": "stdout",
     "output_type": "stream",
     "text": [
      "Requirement already satisfied: wikipedia-api in /Users/kaitlynrojas/opt/anaconda3/lib/python3.9/site-packages (0.5.8)\n",
      "Requirement already satisfied: requests in /Users/kaitlynrojas/opt/anaconda3/lib/python3.9/site-packages (from wikipedia-api) (2.28.1)\n",
      "Requirement already satisfied: charset-normalizer<3,>=2 in /Users/kaitlynrojas/opt/anaconda3/lib/python3.9/site-packages (from requests->wikipedia-api) (2.0.4)\n",
      "Requirement already satisfied: certifi>=2017.4.17 in /Users/kaitlynrojas/opt/anaconda3/lib/python3.9/site-packages (from requests->wikipedia-api) (2022.9.24)\n",
      "Requirement already satisfied: idna<4,>=2.5 in /Users/kaitlynrojas/opt/anaconda3/lib/python3.9/site-packages (from requests->wikipedia-api) (3.3)\n",
      "Requirement already satisfied: urllib3<1.27,>=1.21.1 in /Users/kaitlynrojas/opt/anaconda3/lib/python3.9/site-packages (from requests->wikipedia-api) (1.26.11)\n"
     ]
    }
   ],
   "source": [
    "#Step 1: Data Extraction \n",
    "!pip install wikipedia-api"
   ]
  },
  {
   "cell_type": "markdown",
   "id": "817009ed",
   "metadata": {},
   "source": [
    "Here, I am importing in Wiki API to extract a page with information about COVID-19 cases in the United States. Following that I am creating a search query to narrow down the data to see the impact the COVID-19 pandemic had on other economic variables in the United States"
   ]
  },
  {
   "cell_type": "code",
   "execution_count": 7,
   "id": "b2a4fabd",
   "metadata": {},
   "outputs": [],
   "source": [
    "#import wiki API \n",
    "import wikipedia "
   ]
  },
  {
   "cell_type": "code",
   "execution_count": 6,
   "id": "314c9d1d",
   "metadata": {},
   "outputs": [],
   "source": [
    "#view COVID-19 cases wiki page \n",
    "page = wikipedia.page(\"COVID-19 cases by age group in the United States\")"
   ]
  },
  {
   "cell_type": "code",
   "execution_count": 92,
   "id": "9bcf9d61",
   "metadata": {},
   "outputs": [
    {
     "ename": "KeyboardInterrupt",
     "evalue": "Interrupted by user",
     "output_type": "error",
     "traceback": [
      "\u001b[0;31m---------------------------------------------------------------------------\u001b[0m",
      "\u001b[0;31mKeyboardInterrupt\u001b[0m                         Traceback (most recent call last)",
      "\u001b[0;32m/var/folders/8c/wjpqqr3j59d69qmmh8vzmkk40000gn/T/ipykernel_48497/867711469.py\u001b[0m in \u001b[0;36m<module>\u001b[0;34m\u001b[0m\n\u001b[1;32m      4\u001b[0m         \u001b[0mprint\u001b[0m\u001b[0;34m(\u001b[0m\u001b[0mline\u001b[0m\u001b[0;34m)\u001b[0m\u001b[0;34m\u001b[0m\u001b[0;34m\u001b[0m\u001b[0m\n\u001b[1;32m      5\u001b[0m \u001b[0;34m\u001b[0m\u001b[0m\n\u001b[0;32m----> 6\u001b[0;31m \u001b[0mquestion\u001b[0m \u001b[0;34m=\u001b[0m \u001b[0minput\u001b[0m\u001b[0;34m(\u001b[0m\u001b[0;34m\"search for: \"\u001b[0m\u001b[0;34m)\u001b[0m\u001b[0;34m\u001b[0m\u001b[0;34m\u001b[0m\u001b[0m\n\u001b[0m\u001b[1;32m      7\u001b[0m \u001b[0msearch\u001b[0m\u001b[0;34m(\u001b[0m\u001b[0mquestion\u001b[0m\u001b[0;34m)\u001b[0m\u001b[0;34m\u001b[0m\u001b[0;34m\u001b[0m\u001b[0m\n",
      "\u001b[0;32m~/opt/anaconda3/lib/python3.9/site-packages/ipykernel/kernelbase.py\u001b[0m in \u001b[0;36mraw_input\u001b[0;34m(self, prompt)\u001b[0m\n\u001b[1;32m   1175\u001b[0m                 \u001b[0;34m\"raw_input was called, but this frontend does not support input requests.\"\u001b[0m\u001b[0;34m\u001b[0m\u001b[0;34m\u001b[0m\u001b[0m\n\u001b[1;32m   1176\u001b[0m             )\n\u001b[0;32m-> 1177\u001b[0;31m         return self._input_request(\n\u001b[0m\u001b[1;32m   1178\u001b[0m             \u001b[0mstr\u001b[0m\u001b[0;34m(\u001b[0m\u001b[0mprompt\u001b[0m\u001b[0;34m)\u001b[0m\u001b[0;34m,\u001b[0m\u001b[0;34m\u001b[0m\u001b[0;34m\u001b[0m\u001b[0m\n\u001b[1;32m   1179\u001b[0m             \u001b[0mself\u001b[0m\u001b[0;34m.\u001b[0m\u001b[0m_parent_ident\u001b[0m\u001b[0;34m[\u001b[0m\u001b[0;34m\"shell\"\u001b[0m\u001b[0;34m]\u001b[0m\u001b[0;34m,\u001b[0m\u001b[0;34m\u001b[0m\u001b[0;34m\u001b[0m\u001b[0m\n",
      "\u001b[0;32m~/opt/anaconda3/lib/python3.9/site-packages/ipykernel/kernelbase.py\u001b[0m in \u001b[0;36m_input_request\u001b[0;34m(self, prompt, ident, parent, password)\u001b[0m\n\u001b[1;32m   1217\u001b[0m             \u001b[0;32mexcept\u001b[0m \u001b[0mKeyboardInterrupt\u001b[0m\u001b[0;34m:\u001b[0m\u001b[0;34m\u001b[0m\u001b[0;34m\u001b[0m\u001b[0m\n\u001b[1;32m   1218\u001b[0m                 \u001b[0;31m# re-raise KeyboardInterrupt, to truncate traceback\u001b[0m\u001b[0;34m\u001b[0m\u001b[0;34m\u001b[0m\u001b[0m\n\u001b[0;32m-> 1219\u001b[0;31m                 \u001b[0;32mraise\u001b[0m \u001b[0mKeyboardInterrupt\u001b[0m\u001b[0;34m(\u001b[0m\u001b[0;34m\"Interrupted by user\"\u001b[0m\u001b[0;34m)\u001b[0m \u001b[0;32mfrom\u001b[0m \u001b[0;32mNone\u001b[0m\u001b[0;34m\u001b[0m\u001b[0;34m\u001b[0m\u001b[0m\n\u001b[0m\u001b[1;32m   1220\u001b[0m             \u001b[0;32mexcept\u001b[0m \u001b[0mException\u001b[0m\u001b[0;34m:\u001b[0m\u001b[0;34m\u001b[0m\u001b[0;34m\u001b[0m\u001b[0m\n\u001b[1;32m   1221\u001b[0m                 \u001b[0mself\u001b[0m\u001b[0;34m.\u001b[0m\u001b[0mlog\u001b[0m\u001b[0;34m.\u001b[0m\u001b[0mwarning\u001b[0m\u001b[0;34m(\u001b[0m\u001b[0;34m\"Invalid Message:\"\u001b[0m\u001b[0;34m,\u001b[0m \u001b[0mexc_info\u001b[0m\u001b[0;34m=\u001b[0m\u001b[0;32mTrue\u001b[0m\u001b[0;34m)\u001b[0m\u001b[0;34m\u001b[0m\u001b[0;34m\u001b[0m\u001b[0m\n",
      "\u001b[0;31mKeyboardInterrupt\u001b[0m: Interrupted by user"
     ]
    }
   ],
   "source": [
    "def search(argument):\n",
    "    result = wi.summary(argument-19).split(\",\")\n",
    "    for line in result:\n",
    "        print(line)\n",
    "        \n",
    "question = input(\"search for: \")\n",
    "search(question)\n"
   ]
  },
  {
   "cell_type": "markdown",
   "id": "8ac9b5d6",
   "metadata": {},
   "source": [
    "Here, I am printing the page content of the Wiki site of COVID-19 pandemic in the United States "
   ]
  },
  {
   "cell_type": "code",
   "execution_count": null,
   "id": "f8066ac0",
   "metadata": {},
   "outputs": [],
   "source": [
    "print(page.content)"
   ]
  },
  {
   "cell_type": "markdown",
   "id": "684fd036",
   "metadata": {},
   "source": [
    "Here I am obtaining the URL of the wiki site"
   ]
  },
  {
   "cell_type": "code",
   "execution_count": 27,
   "id": "243dbb2b",
   "metadata": {},
   "outputs": [
    {
     "name": "stdout",
     "output_type": "stream",
     "text": [
      "https://en.wikipedia.org/wiki/COVID-19_pandemic_in_the_United_States\n"
     ]
    }
   ],
   "source": [
    "#get URL of wiki \n",
    "page = wikipedia.page(\"COVID-19 cases by age group in the United States\")\n",
    "print(page.url)"
   ]
  },
  {
   "cell_type": "markdown",
   "id": "c799bf1f",
   "metadata": {},
   "source": [
    "Here, I am beginning step 2 of data transformation and loading. I am going to transform and clean the data to find the economic variables that COVID-19 cases had impacted.I also want to change column names to Economic Variable. After that, I am going to store the transformed data into a csv file and read that file into my Jupyter notebook to make sure the cleaning process went well and is transformed from the original. "
   ]
  },
  {
   "cell_type": "code",
   "execution_count": 80,
   "id": "0d0744b6",
   "metadata": {},
   "outputs": [
    {
     "data": {
      "text/html": [
       "<div>\n",
       "<style scoped>\n",
       "    .dataframe tbody tr th:only-of-type {\n",
       "        vertical-align: middle;\n",
       "    }\n",
       "\n",
       "    .dataframe tbody tr th {\n",
       "        vertical-align: top;\n",
       "    }\n",
       "\n",
       "    .dataframe thead th {\n",
       "        text-align: right;\n",
       "    }\n",
       "</style>\n",
       "<table border=\"1\" class=\"dataframe\">\n",
       "  <thead>\n",
       "    <tr style=\"text-align: right;\">\n",
       "      <th></th>\n",
       "      <th>Variable</th>\n",
       "      <th>Feb</th>\n",
       "      <th>Mar</th>\n",
       "      <th>Apr</th>\n",
       "      <th>May</th>\n",
       "      <th>June</th>\n",
       "      <th>July</th>\n",
       "      <th>Aug</th>\n",
       "      <th>Sep</th>\n",
       "      <th>Oct</th>\n",
       "      <th>Nov</th>\n",
       "    </tr>\n",
       "  </thead>\n",
       "  <tbody>\n",
       "    <tr>\n",
       "      <th>0</th>\n",
       "      <td>Jobs, level (000s)[241]</td>\n",
       "      <td>152463</td>\n",
       "      <td>151090</td>\n",
       "      <td>130303</td>\n",
       "      <td>133002</td>\n",
       "      <td>137802</td>\n",
       "      <td>139582</td>\n",
       "      <td>140914</td>\n",
       "      <td>141720</td>\n",
       "      <td>142373</td>\n",
       "      <td>142629</td>\n",
       "    </tr>\n",
       "    <tr>\n",
       "      <th>1</th>\n",
       "      <td>Jobs, monthly change (000s)[241]</td>\n",
       "      <td>251</td>\n",
       "      <td>−1,373</td>\n",
       "      <td>−20,787</td>\n",
       "      <td>2699</td>\n",
       "      <td>4800</td>\n",
       "      <td>1780</td>\n",
       "      <td>1371</td>\n",
       "      <td>661</td>\n",
       "      <td>653</td>\n",
       "      <td>256</td>\n",
       "    </tr>\n",
       "    <tr>\n",
       "      <th>2</th>\n",
       "      <td>Unemployment rate %[242]</td>\n",
       "      <td>3.5%</td>\n",
       "      <td>4.4%</td>\n",
       "      <td>14.7%</td>\n",
       "      <td>13.3%</td>\n",
       "      <td>11.1%</td>\n",
       "      <td>10.2%</td>\n",
       "      <td>8.4%</td>\n",
       "      <td>7.9%</td>\n",
       "      <td>6.9%</td>\n",
       "      <td>6.7%</td>\n",
       "    </tr>\n",
       "    <tr>\n",
       "      <th>3</th>\n",
       "      <td>Number unemployed (millions)[243]</td>\n",
       "      <td>5.8</td>\n",
       "      <td>7.1</td>\n",
       "      <td>23.1</td>\n",
       "      <td>21.0</td>\n",
       "      <td>17.8</td>\n",
       "      <td>16.3</td>\n",
       "      <td>13.6</td>\n",
       "      <td>12.6</td>\n",
       "      <td>11.1</td>\n",
       "      <td>10.7</td>\n",
       "    </tr>\n",
       "    <tr>\n",
       "      <th>4</th>\n",
       "      <td>Employment to population ratio %, age 25–54[244]</td>\n",
       "      <td>80.5%</td>\n",
       "      <td>79.6%</td>\n",
       "      <td>69.7%</td>\n",
       "      <td>71.4%</td>\n",
       "      <td>73.5%</td>\n",
       "      <td>73.8%</td>\n",
       "      <td>75.3%</td>\n",
       "      <td>75.0%</td>\n",
       "      <td>76.0%</td>\n",
       "      <td>76.0%</td>\n",
       "    </tr>\n",
       "    <tr>\n",
       "      <th>5</th>\n",
       "      <td>Inflation rate % (CPI-All)[245]</td>\n",
       "      <td>2.3%</td>\n",
       "      <td>1.5%</td>\n",
       "      <td>0.4%</td>\n",
       "      <td>0.2%</td>\n",
       "      <td>0.7%</td>\n",
       "      <td>1.0%</td>\n",
       "      <td>TBD</td>\n",
       "      <td>TBD</td>\n",
       "      <td>TBD</td>\n",
       "      <td>TBD</td>\n",
       "    </tr>\n",
       "    <tr>\n",
       "      <th>6</th>\n",
       "      <td>Stock market S&amp;P 500 (avg. level)[246]</td>\n",
       "      <td>3277</td>\n",
       "      <td>2652</td>\n",
       "      <td>2762</td>\n",
       "      <td>2920</td>\n",
       "      <td>3105</td>\n",
       "      <td>3230</td>\n",
       "      <td>3392</td>\n",
       "      <td>3380</td>\n",
       "      <td>3270</td>\n",
       "      <td>3694</td>\n",
       "    </tr>\n",
       "    <tr>\n",
       "      <th>7</th>\n",
       "      <td>Debt held by public ($ trillion)[247]</td>\n",
       "      <td>17.4</td>\n",
       "      <td>17.7</td>\n",
       "      <td>19.1</td>\n",
       "      <td>19.9</td>\n",
       "      <td>20.5</td>\n",
       "      <td>20.6</td>\n",
       "      <td>20.8</td>\n",
       "      <td>21.0</td>\n",
       "      <td>21.2</td>\n",
       "      <td>21.3</td>\n",
       "    </tr>\n",
       "  </tbody>\n",
       "</table>\n",
       "</div>"
      ],
      "text/plain": [
       "                                           Variable     Feb     Mar      Apr  \\\n",
       "0                           Jobs, level (000s)[241]  152463  151090   130303   \n",
       "1                  Jobs, monthly change (000s)[241]     251  −1,373  −20,787   \n",
       "2                          Unemployment rate %[242]    3.5%    4.4%    14.7%   \n",
       "3                 Number unemployed (millions)[243]     5.8     7.1     23.1   \n",
       "4  Employment to population ratio %, age 25–54[244]   80.5%   79.6%    69.7%   \n",
       "5                   Inflation rate % (CPI-All)[245]    2.3%    1.5%     0.4%   \n",
       "6            Stock market S&P 500 (avg. level)[246]    3277    2652     2762   \n",
       "7             Debt held by public ($ trillion)[247]    17.4    17.7     19.1   \n",
       "\n",
       "      May    June    July     Aug     Sep     Oct     Nov  \n",
       "0  133002  137802  139582  140914  141720  142373  142629  \n",
       "1    2699    4800    1780    1371     661     653     256  \n",
       "2   13.3%   11.1%   10.2%    8.4%    7.9%    6.9%    6.7%  \n",
       "3    21.0    17.8    16.3    13.6    12.6    11.1    10.7  \n",
       "4   71.4%   73.5%   73.8%   75.3%   75.0%   76.0%   76.0%  \n",
       "5    0.2%    0.7%    1.0%     TBD     TBD     TBD     TBD  \n",
       "6    2920    3105    3230    3392    3380    3270    3694  \n",
       "7    19.9    20.5    20.6    20.8    21.0    21.2    21.3  "
      ]
     },
     "execution_count": 80,
     "metadata": {},
     "output_type": "execute_result"
    }
   ],
   "source": [
    "import wikipedia\n",
    "import pandas as pd\n",
    "\n",
    "#rename columns\n",
    "df.rename(columns ={'Variable': 'Economic Variable'}, inplace = True)\n",
    "\n",
    "#clean data to sort by impact of the pandemic on other economic varibles\n",
    "dfs = pd.read_html(\"https://en.wikipedia.org/wiki/COVID-19_pandemic_in_the_United_States\")\n",
    "len(dfs)\n",
    "dfs[2]"
   ]
  },
  {
   "cell_type": "code",
   "execution_count": 73,
   "id": "47fff431",
   "metadata": {},
   "outputs": [
    {
     "name": "stdout",
     "output_type": "stream",
     "text": [
      "                                                text\n",
      "0  [               COVID-19 pandemic in the Unite...\n"
     ]
    }
   ],
   "source": [
    " #store transformed data to csv file \n",
    "df.to_csv('cleaned_COVID_data.csv', index = False)\n",
    "\n",
    "#load the transformed CSV file \n",
    "df = pd.read_csv(\"COVID-19_Cases_United_States.csv\")\n",
    "print(df)"
   ]
  },
  {
   "cell_type": "markdown",
   "id": "5e15ed59",
   "metadata": {},
   "source": [
    "Here Im beginning Step 3 Analysis and Visualization. I want to visualize the relationship between the different economic variables and COVID-19 cases in the U.S. I chose to do so in the month of April, which has the highest unemployment rate throughout the year. Knowingly so, I wanted to see how all the other economic variables would respond to the highest unemployment rate in the year."
   ]
  },
  {
   "cell_type": "code",
   "execution_count": 93,
   "id": "44117282",
   "metadata": {},
   "outputs": [
    {
     "data": {
      "image/png": "[encoded data removed]",
      "text/plain": [
       "<Figure size 640x480 with 1 Axes>"
      ]
     },
     "metadata": {},
     "output_type": "display_data"
    }
   ],
   "source": [
    "import pandas as pd\n",
    "import matplotlib.pyplot as plt\n",
    "\n",
    "df = pd.read_csv('cleaned_COVID_data.csv')\n",
    "\n",
    "plt.bar(df['Apr'], df ['Economic Variable'])\n",
    "plt.xlabel('Measure')\n",
    "plt.ylabel('Economic Variable')\n",
    "plt.title(' Economic Response of the COVID-19 Pandemic ')\n",
    "plt.suptitle('April 2020')\n",
    "plt.show() "
   ]
  },
  {
   "cell_type": "code",
   "execution_count": null,
   "id": "5b2339b1",
   "metadata": {},
   "outputs": [],
   "source": []
  },
  {
   "cell_type": "code",
   "execution_count": null,
   "id": "4d14ae7d",
   "metadata": {},
   "outputs": [],
   "source": []
  }
 ],
 "metadata": {
  "kernelspec": {
   "display_name": "Python 3 (ipykernel)",
   "language": "python",
   "name": "python3"
  },
  "language_info": {
   "codemirror_mode": {
    "name": "ipython",
    "version": 3
   },
   "file_extension": ".py",
   "mimetype": "text/x-python",
   "name": "python",
   "nbconvert_exporter": "python",
   "pygments_lexer": "ipython3",
   "version": "3.9.13"
  }
 },
 "nbformat": 4,
 "nbformat_minor": 5
}
